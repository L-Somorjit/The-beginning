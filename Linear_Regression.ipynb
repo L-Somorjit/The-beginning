{
  "nbformat": 4,
  "nbformat_minor": 0,
  "metadata": {
    "colab": {
      "name": "Linear_Regression.ipynb",
      "provenance": [],
      "collapsed_sections": [],
      "include_colab_link": true
    },
    "kernelspec": {
      "name": "python3",
      "display_name": "Python 3"
    }
  },
  "cells": [
    {
      "cell_type": "markdown",
      "metadata": {
        "id": "view-in-github",
        "colab_type": "text"
      },
      "source": [
        "<a href=\"https://colab.research.google.com/github/L-Somorjit/The-beginning/blob/master/Linear_Regression.ipynb\" target=\"_parent\"><img src=\"https://colab.research.google.com/assets/colab-badge.svg\" alt=\"Open In Colab\"/></a>"
      ]
    },
    {
      "cell_type": "code",
      "metadata": {
        "id": "FzI3XJJLXGsf",
        "colab_type": "code",
        "colab": {}
      },
      "source": [
        "import numpy as np\n",
        "import pandas as pd\n",
        "import matplotlib.pyplot as plt\n"
      ],
      "execution_count": 0,
      "outputs": []
    },
    {
      "cell_type": "code",
      "metadata": {
        "id": "j4EKs_rXXiEJ",
        "colab_type": "code",
        "colab": {}
      },
      "source": [
        "from sklearn.datasets import load_iris\n",
        "data = load_iris()"
      ],
      "execution_count": 0,
      "outputs": []
    },
    {
      "cell_type": "code",
      "metadata": {
        "id": "s_4kU80zZ478",
        "colab_type": "code",
        "colab": {}
      },
      "source": [
        "X=pd.DataFrame(data.data,columns=data.feature_names)"
      ],
      "execution_count": 0,
      "outputs": []
    },
    {
      "cell_type": "code",
      "metadata": {
        "id": "YXZs6VgeaBff",
        "colab_type": "code",
        "outputId": "a815641a-c228-4395-b10b-1c71090b5565",
        "colab": {
          "base_uri": "https://localhost:8080/",
          "height": 206
        }
      },
      "source": [
        "X.head()"
      ],
      "execution_count": 4,
      "outputs": [
        {
          "output_type": "execute_result",
          "data": {
            "text/html": [
              "<div>\n",
              "<style scoped>\n",
              "    .dataframe tbody tr th:only-of-type {\n",
              "        vertical-align: middle;\n",
              "    }\n",
              "\n",
              "    .dataframe tbody tr th {\n",
              "        vertical-align: top;\n",
              "    }\n",
              "\n",
              "    .dataframe thead th {\n",
              "        text-align: right;\n",
              "    }\n",
              "</style>\n",
              "<table border=\"1\" class=\"dataframe\">\n",
              "  <thead>\n",
              "    <tr style=\"text-align: right;\">\n",
              "      <th></th>\n",
              "      <th>sepal length (cm)</th>\n",
              "      <th>sepal width (cm)</th>\n",
              "      <th>petal length (cm)</th>\n",
              "      <th>petal width (cm)</th>\n",
              "    </tr>\n",
              "  </thead>\n",
              "  <tbody>\n",
              "    <tr>\n",
              "      <th>0</th>\n",
              "      <td>5.1</td>\n",
              "      <td>3.5</td>\n",
              "      <td>1.4</td>\n",
              "      <td>0.2</td>\n",
              "    </tr>\n",
              "    <tr>\n",
              "      <th>1</th>\n",
              "      <td>4.9</td>\n",
              "      <td>3.0</td>\n",
              "      <td>1.4</td>\n",
              "      <td>0.2</td>\n",
              "    </tr>\n",
              "    <tr>\n",
              "      <th>2</th>\n",
              "      <td>4.7</td>\n",
              "      <td>3.2</td>\n",
              "      <td>1.3</td>\n",
              "      <td>0.2</td>\n",
              "    </tr>\n",
              "    <tr>\n",
              "      <th>3</th>\n",
              "      <td>4.6</td>\n",
              "      <td>3.1</td>\n",
              "      <td>1.5</td>\n",
              "      <td>0.2</td>\n",
              "    </tr>\n",
              "    <tr>\n",
              "      <th>4</th>\n",
              "      <td>5.0</td>\n",
              "      <td>3.6</td>\n",
              "      <td>1.4</td>\n",
              "      <td>0.2</td>\n",
              "    </tr>\n",
              "  </tbody>\n",
              "</table>\n",
              "</div>"
            ],
            "text/plain": [
              "   sepal length (cm)  sepal width (cm)  petal length (cm)  petal width (cm)\n",
              "0                5.1               3.5                1.4               0.2\n",
              "1                4.9               3.0                1.4               0.2\n",
              "2                4.7               3.2                1.3               0.2\n",
              "3                4.6               3.1                1.5               0.2\n",
              "4                5.0               3.6                1.4               0.2"
            ]
          },
          "metadata": {
            "tags": []
          },
          "execution_count": 4
        }
      ]
    },
    {
      "cell_type": "code",
      "metadata": {
        "id": "ogQrXUHPaYu1",
        "colab_type": "code",
        "outputId": "43aec1e2-1d6b-452a-8371-e7b0258a2b94",
        "colab": {
          "base_uri": "https://localhost:8080/",
          "height": 206
        }
      },
      "source": [
        "Y=pd.DataFrame(data.target)\n",
        "Y.head()"
      ],
      "execution_count": 5,
      "outputs": [
        {
          "output_type": "execute_result",
          "data": {
            "text/html": [
              "<div>\n",
              "<style scoped>\n",
              "    .dataframe tbody tr th:only-of-type {\n",
              "        vertical-align: middle;\n",
              "    }\n",
              "\n",
              "    .dataframe tbody tr th {\n",
              "        vertical-align: top;\n",
              "    }\n",
              "\n",
              "    .dataframe thead th {\n",
              "        text-align: right;\n",
              "    }\n",
              "</style>\n",
              "<table border=\"1\" class=\"dataframe\">\n",
              "  <thead>\n",
              "    <tr style=\"text-align: right;\">\n",
              "      <th></th>\n",
              "      <th>0</th>\n",
              "    </tr>\n",
              "  </thead>\n",
              "  <tbody>\n",
              "    <tr>\n",
              "      <th>0</th>\n",
              "      <td>0</td>\n",
              "    </tr>\n",
              "    <tr>\n",
              "      <th>1</th>\n",
              "      <td>0</td>\n",
              "    </tr>\n",
              "    <tr>\n",
              "      <th>2</th>\n",
              "      <td>0</td>\n",
              "    </tr>\n",
              "    <tr>\n",
              "      <th>3</th>\n",
              "      <td>0</td>\n",
              "    </tr>\n",
              "    <tr>\n",
              "      <th>4</th>\n",
              "      <td>0</td>\n",
              "    </tr>\n",
              "  </tbody>\n",
              "</table>\n",
              "</div>"
            ],
            "text/plain": [
              "   0\n",
              "0  0\n",
              "1  0\n",
              "2  0\n",
              "3  0\n",
              "4  0"
            ]
          },
          "metadata": {
            "tags": []
          },
          "execution_count": 5
        }
      ]
    },
    {
      "cell_type": "code",
      "metadata": {
        "id": "UZgPPdJZcHjo",
        "colab_type": "code",
        "colab": {}
      },
      "source": [
        "from sklearn.model_selection import train_test_split \n",
        "X_train, X_test, Y_train, Y_test = train_test_split(X, Y, test_size = 0.2)"
      ],
      "execution_count": 0,
      "outputs": []
    },
    {
      "cell_type": "code",
      "metadata": {
        "id": "ZTDgF6NTHNc3",
        "colab_type": "code",
        "colab": {}
      },
      "source": [
        "w=np.random.normal(size=X_train.shape[1]*1) #initializing weight\n",
        "w=w.reshape(X_train.shape[1],1)\n",
        "b=0"
      ],
      "execution_count": 0,
      "outputs": []
    },
    {
      "cell_type": "code",
      "metadata": {
        "id": "4XycoOzOgeQ3",
        "colab_type": "code",
        "colab": {}
      },
      "source": [
        "def z(x):\n",
        "  out=np.dot(x, w)+b\n",
        "  return out"
      ],
      "execution_count": 0,
      "outputs": []
    },
    {
      "cell_type": "code",
      "metadata": {
        "id": "SWLW3ZYs34tt",
        "colab_type": "code",
        "colab": {}
      },
      "source": [
        "def loss(y, y_h): #mean square error loss\n",
        "  return np.mean((np.square(y_h-y))/2)"
      ],
      "execution_count": 0,
      "outputs": []
    },
    {
      "cell_type": "code",
      "metadata": {
        "id": "yvZEvpyiLLlo",
        "colab_type": "code",
        "colab": {}
      },
      "source": [
        "def weight(w, x, y, b): # weight updation fuction\n",
        "  h=z(x)\n",
        "  temp_w=(np.dot((h-y).reshape(1, x.shape[0]), x)).T\n",
        "  temp_b=(h-y) \n",
        "  w=w-((lr/x.shape[0])* temp_w)\n",
        "  b=b-((lr/x.shape[0])* temp_b)\n",
        "\n",
        "  return w, b\n"
      ],
      "execution_count": 0,
      "outputs": []
    },
    {
      "cell_type": "code",
      "metadata": {
        "id": "n3vYweFR6pYP",
        "colab_type": "code",
        "colab": {}
      },
      "source": [
        "X_train=np.array(X_train)\n",
        "Y_train=np.array(Y_train)"
      ],
      "execution_count": 0,
      "outputs": []
    },
    {
      "cell_type": "code",
      "metadata": {
        "id": "2zJmBxYW1cVf",
        "colab_type": "code",
        "outputId": "fa3450ed-a490-44e2-c7f6-936b63036bb6",
        "colab": {
          "base_uri": "https://localhost:8080/",
          "height": 1000
        }
      },
      "source": [
        "lr=0.002\n",
        "los=[]\n",
        "for i in range(10000):\n",
        "  x_index=np.random.choice(np.arange(X_train.shape[0]), size=16, replace=False)\n",
        "  x=X_train[x_index]\n",
        "  y=Y_train[x_index]\n",
        "  y_h=z(x)\n",
        "  j=(loss(y, y_h))\n",
        "  if i%100==0:\n",
        "    print(\"loss at %d interation is %s\"% (i, j))\n",
        "    #   #print(\"accuracy of train data at %d iteration is %s\"%(i, accuracy_train))\n",
        "  los.append(j)\n",
        "  w, b=weight(w, x, y, b)\n",
        "  \n",
        "\n",
        "  "
      ],
      "execution_count": 12,
      "outputs": [
        {
          "output_type": "stream",
          "text": [
            "loss at 0 interation is 5.901524665127145\n",
            "loss at 100 interation is 0.1805100221546622\n",
            "loss at 200 interation is 0.16873812404506872\n",
            "loss at 300 interation is 0.061038098232682164\n",
            "loss at 400 interation is 0.13905354337028913\n",
            "loss at 500 interation is 0.1440271685125059\n",
            "loss at 600 interation is 0.05462968096734615\n",
            "loss at 700 interation is 0.10393659771777561\n",
            "loss at 800 interation is 0.11676822214537542\n",
            "loss at 900 interation is 0.10242333246519945\n",
            "loss at 1000 interation is 0.09003372462659384\n",
            "loss at 1100 interation is 0.11093343806362768\n",
            "loss at 1200 interation is 0.07270421922677713\n",
            "loss at 1300 interation is 0.11441084145822236\n",
            "loss at 1400 interation is 0.13273722589022413\n",
            "loss at 1500 interation is 0.03060048100825236\n",
            "loss at 1600 interation is 0.07726502746959099\n",
            "loss at 1700 interation is 0.10948798605739941\n",
            "loss at 1800 interation is 0.05117152979181129\n",
            "loss at 1900 interation is 0.07257169010369491\n",
            "loss at 2000 interation is 0.05483823561492415\n",
            "loss at 2100 interation is 0.05295555733041699\n",
            "loss at 2200 interation is 0.05964099135717992\n",
            "loss at 2300 interation is 0.06708210624440068\n",
            "loss at 2400 interation is 0.12377274714732409\n",
            "loss at 2500 interation is 0.06489134384355019\n",
            "loss at 2600 interation is 0.06335470745653031\n",
            "loss at 2700 interation is 0.06584965525376509\n",
            "loss at 2800 interation is 0.04664267595202231\n",
            "loss at 2900 interation is 0.09117380411154466\n",
            "loss at 3000 interation is 0.04850893780416606\n",
            "loss at 3100 interation is 0.027122053404356316\n",
            "loss at 3200 interation is 0.05200050229315955\n",
            "loss at 3300 interation is 0.04151398264621907\n",
            "loss at 3400 interation is 0.05050893777378808\n",
            "loss at 3500 interation is 0.03879975708794049\n",
            "loss at 3600 interation is 0.06717078078241354\n",
            "loss at 3700 interation is 0.0546598172915581\n",
            "loss at 3800 interation is 0.03907233524652565\n",
            "loss at 3900 interation is 0.0582620343630815\n",
            "loss at 4000 interation is 0.04744911436002412\n",
            "loss at 4100 interation is 0.09491081021830283\n",
            "loss at 4200 interation is 0.03072120033239806\n",
            "loss at 4300 interation is 0.06475469607957957\n",
            "loss at 4400 interation is 0.04026122798985378\n",
            "loss at 4500 interation is 0.05548335599615505\n",
            "loss at 4600 interation is 0.030441818262000958\n",
            "loss at 4700 interation is 0.05307168363567272\n",
            "loss at 4800 interation is 0.04024366566636819\n",
            "loss at 4900 interation is 0.05276088661829044\n",
            "loss at 5000 interation is 0.030156936146009644\n",
            "loss at 5100 interation is 0.036376740745012036\n",
            "loss at 5200 interation is 0.026954296104844334\n",
            "loss at 5300 interation is 0.033707049549463894\n",
            "loss at 5400 interation is 0.042407867258101944\n",
            "loss at 5500 interation is 0.04127304459363578\n",
            "loss at 5600 interation is 0.05954684820897636\n",
            "loss at 5700 interation is 0.061909534260024275\n",
            "loss at 5800 interation is 0.016599278409002705\n",
            "loss at 5900 interation is 0.03873417719923559\n",
            "loss at 6000 interation is 0.055393256483086885\n",
            "loss at 6100 interation is 0.0579057398649737\n",
            "loss at 6200 interation is 0.04177552248762297\n",
            "loss at 6300 interation is 0.028484867176656197\n",
            "loss at 6400 interation is 0.02196662502334353\n",
            "loss at 6500 interation is 0.020802472164472\n",
            "loss at 6600 interation is 0.02265635814361426\n",
            "loss at 6700 interation is 0.0472555705902799\n",
            "loss at 6800 interation is 0.021915718341096853\n",
            "loss at 6900 interation is 0.04088870328592897\n",
            "loss at 7000 interation is 0.024545507736136833\n",
            "loss at 7100 interation is 0.02672977626930951\n",
            "loss at 7200 interation is 0.020640826452796468\n",
            "loss at 7300 interation is 0.018222216032224563\n",
            "loss at 7400 interation is 0.022720759014999564\n",
            "loss at 7500 interation is 0.01444770873222391\n",
            "loss at 7600 interation is 0.0477781648885941\n",
            "loss at 7700 interation is 0.043977865419485535\n",
            "loss at 7800 interation is 0.03275714837405293\n",
            "loss at 7900 interation is 0.024253763556172814\n",
            "loss at 8000 interation is 0.024890913073216996\n",
            "loss at 8100 interation is 0.02003063563842642\n",
            "loss at 8200 interation is 0.034651195400981036\n",
            "loss at 8300 interation is 0.01572056609571944\n",
            "loss at 8400 interation is 0.017713225948338514\n",
            "loss at 8500 interation is 0.02128451561557828\n",
            "loss at 8600 interation is 0.021670376114934643\n",
            "loss at 8700 interation is 0.020247354434554627\n",
            "loss at 8800 interation is 0.021923177448498324\n",
            "loss at 8900 interation is 0.04008069559378484\n",
            "loss at 9000 interation is 0.01439170095231234\n",
            "loss at 9100 interation is 0.02147328346064507\n",
            "loss at 9200 interation is 0.030192707954071633\n",
            "loss at 9300 interation is 0.0444173474980867\n",
            "loss at 9400 interation is 0.013227605682942406\n",
            "loss at 9500 interation is 0.02314684175224544\n",
            "loss at 9600 interation is 0.010968017149469465\n",
            "loss at 9700 interation is 0.02601763609203713\n",
            "loss at 9800 interation is 0.022997666384746235\n",
            "loss at 9900 interation is 0.011220904142812394\n"
          ],
          "name": "stdout"
        }
      ]
    },
    {
      "cell_type": "code",
      "metadata": {
        "id": "XF6esNXiRB7E",
        "colab_type": "code",
        "colab": {}
      },
      "source": [
        "predict_test=np.round(np.dot(X_test, w))"
      ],
      "execution_count": 0,
      "outputs": []
    },
    {
      "cell_type": "code",
      "metadata": {
        "id": "EMFsC9epSN3l",
        "colab_type": "code",
        "outputId": "5ffbdf12-4b32-47d6-8243-c09c52050f15",
        "colab": {
          "base_uri": "https://localhost:8080/",
          "height": 53
        }
      },
      "source": [
        "accuracy_test=(np.sum(predict_test==Y_test)/Y_test.shape[0])*100  # accuracy of test dataset\n",
        "accuracy_test"
      ],
      "execution_count": 14,
      "outputs": [
        {
          "output_type": "execute_result",
          "data": {
            "text/plain": [
              "0    96.666667\n",
              "dtype: float64"
            ]
          },
          "metadata": {
            "tags": []
          },
          "execution_count": 14
        }
      ]
    },
    {
      "cell_type": "code",
      "metadata": {
        "id": "IjjWufxmUfdD",
        "colab_type": "code",
        "outputId": "7897d310-6a9f-4f87-a138-52bde179c7ae",
        "colab": {
          "base_uri": "https://localhost:8080/",
          "height": 283
        }
      },
      "source": [
        "plt.plot(range(10000),los)\n",
        "plt.show"
      ],
      "execution_count": 15,
      "outputs": [
        {
          "output_type": "execute_result",
          "data": {
            "text/plain": [
              "<function matplotlib.pyplot.show>"
            ]
          },
          "metadata": {
            "tags": []
          },
          "execution_count": 15
        },
        {
          "output_type": "display_data",
          "data": {
            "image/png": "[encoded data removed]",
            "text/plain": [
              "<Figure size 432x288 with 1 Axes>"
            ]
          },
          "metadata": {
            "tags": []
          }
        }
      ]
    }
  ]
}
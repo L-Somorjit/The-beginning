{
  "nbformat": 4,
  "nbformat_minor": 0,
  "metadata": {
    "colab": {
      "name": "LR_picture.ipynb",
      "provenance": [],
      "authorship_tag": "ABX9TyNEqUitFm4DUP4t6/mvag8T",
      "include_colab_link": true
    },
    "kernelspec": {
      "name": "python3",
      "display_name": "Python 3"
    }
  },
  "cells": [
    {
      "cell_type": "markdown",
      "metadata": {
        "id": "view-in-github",
        "colab_type": "text"
      },
      "source": [
        "<a href=\"https://colab.research.google.com/github/L-Somorjit/The-beginning/blob/master/LR_picture.ipynb\" target=\"_parent\"><img src=\"https://colab.research.google.com/assets/colab-badge.svg\" alt=\"Open In Colab\"/></a>"
      ]
    },
    {
      "cell_type": "code",
      "metadata": {
        "id": "E1qkoG1440en",
        "colab_type": "code",
        "colab": {
          "base_uri": "https://localhost:8080/",
          "height": 144
        },
        "outputId": "bb5e3887-ecc4-4693-99d5-eaa02bfba5a5"
      },
      "source": [
        "from google.colab import drive\n",
        "drive.mount('/gdrive')\n",
        "%cd /gdrive/My\\ Drive/learning_ML"
      ],
      "execution_count": null,
      "outputs": [
        {
          "output_type": "stream",
          "text": [
            "Go to this URL in a browser: https://accounts.google.com/o/oauth2/auth?client_id=947318989803-6bn6qk8qdgf4n4g3pfee6491hc0brc4i.apps.googleusercontent.com&redirect_uri=urn%3aietf%3awg%3aoauth%3a2.0%3aoob&response_type=code&scope=email%20https%3a%2f%2fwww.googleapis.com%2fauth%2fdocs.test%20https%3a%2f%2fwww.googleapis.com%2fauth%2fdrive%20https%3a%2f%2fwww.googleapis.com%2fauth%2fdrive.photos.readonly%20https%3a%2f%2fwww.googleapis.com%2fauth%2fpeopleapi.readonly\n",
            "\n",
            "Enter your authorization code:\n",
            "··········\n",
            "Mounted at /gdrive\n",
            "/gdrive/My Drive/learning_ML\n"
          ],
          "name": "stdout"
        }
      ]
    },
    {
      "cell_type": "code",
      "metadata": {
        "id": "SEt5gUDfkzBS",
        "colab_type": "code",
        "colab": {}
      },
      "source": [
        "import numpy as np \n",
        "import matplotlib.pyplot as plt\n",
        "import scipy\n",
        "import h5py\n",
        "from PIL import Image\n",
        "from scipy import ndimage"
      ],
      "execution_count": null,
      "outputs": []
    },
    {
      "cell_type": "code",
      "metadata": {
        "id": "ptwY8ZX-5cHj",
        "colab_type": "code",
        "colab": {}
      },
      "source": [
        "def load_datasets():\n",
        "\n",
        "  train_set=h5py.File(\"train_catvnoncat.h5\",\"r\")\n",
        "  test_set=h5py.File(\"test_catvnoncat.h5\",\"r\")\n",
        "\n",
        "  train_set_x_ori=np.array(train_set[\"train_set_x\"][:])\n",
        "  train_set_y=np.array(train_set[\"train_set_y\"][:])\n",
        "  test_set_x_ori=np.array(test_set[\"test_set_x\"][:])\n",
        "  test_set_y=np.array(test_set[\"test_set_y\"][:])\n",
        "\n",
        "  classes=np.array(train_set[\"list_classes\"][:])\n",
        "\n",
        "  train_set_y=train_set_y.reshape(1,train_set_x_ori.shape[0])\n",
        "  test_set_y=test_set_y.reshape(1,test_set_y.shape[0])\n",
        "\n",
        "  return train_set_x_ori, test_set_x_ori, train_set_y, test_set_y, classes"
      ],
      "execution_count": null,
      "outputs": []
    },
    {
      "cell_type": "code",
      "metadata": {
        "id": "MITTruv5C1ry",
        "colab_type": "code",
        "colab": {
          "base_uri": "https://localhost:8080/",
          "height": 35
        },
        "outputId": "b7028d1c-cd88-42d7-d425-b34a09e76786"
      },
      "source": [
        "display1=h5py.File(\"train_catvnoncat.h5\",\"r\")\n",
        "display1.keys()"
      ],
      "execution_count": null,
      "outputs": [
        {
          "output_type": "execute_result",
          "data": {
            "text/plain": [
              "<KeysViewHDF5 ['list_classes', 'train_set_x', 'train_set_y']>"
            ]
          },
          "metadata": {
            "tags": []
          },
          "execution_count": 4
        }
      ]
    },
    {
      "cell_type": "code",
      "metadata": {
        "id": "qijTKAMiDgR3",
        "colab_type": "code",
        "colab": {
          "base_uri": "https://localhost:8080/",
          "height": 35
        },
        "outputId": "3d6e6249-8af3-463c-9490-53156a502c53"
      },
      "source": [
        "display1['list_classes']"
      ],
      "execution_count": null,
      "outputs": [
        {
          "output_type": "execute_result",
          "data": {
            "text/plain": [
              "<HDF5 dataset \"list_classes\": shape (2,), type \"|S7\">"
            ]
          },
          "metadata": {
            "tags": []
          },
          "execution_count": 5
        }
      ]
    },
    {
      "cell_type": "code",
      "metadata": {
        "id": "vsP5ZZrFEC96",
        "colab_type": "code",
        "colab": {
          "base_uri": "https://localhost:8080/",
          "height": 35
        },
        "outputId": "cb976fcb-abdf-45a9-e5c6-a7df626fb393"
      },
      "source": [
        "display1[\"train_set_x\"]"
      ],
      "execution_count": null,
      "outputs": [
        {
          "output_type": "execute_result",
          "data": {
            "text/plain": [
              "<HDF5 dataset \"train_set_x\": shape (209, 64, 64, 3), type \"|u1\">"
            ]
          },
          "metadata": {
            "tags": []
          },
          "execution_count": 6
        }
      ]
    },
    {
      "cell_type": "code",
      "metadata": {
        "id": "MXBzrGTSENBP",
        "colab_type": "code",
        "colab": {
          "base_uri": "https://localhost:8080/",
          "height": 1000
        },
        "outputId": "1e03c5af-5e6c-4731-d374-83e3556d98b8"
      },
      "source": [
        "display1[\"train_set_x\"][:]"
      ],
      "execution_count": null,
      "outputs": [
        {
          "output_type": "execute_result",
          "data": {
            "text/plain": [
              "array([[[[ 17,  31,  56],\n",
              "         [ 22,  33,  59],\n",
              "         [ 25,  35,  62],\n",
              "         ...,\n",
              "         [  1,  28,  57],\n",
              "         [  1,  26,  56],\n",
              "         [  1,  22,  51]],\n",
              "\n",
              "        [[ 25,  36,  62],\n",
              "         [ 28,  38,  64],\n",
              "         [ 30,  40,  67],\n",
              "         ...,\n",
              "         [  1,  27,  56],\n",
              "         [  1,  25,  55],\n",
              "         [  2,  21,  51]],\n",
              "\n",
              "        [[ 32,  40,  67],\n",
              "         [ 34,  42,  69],\n",
              "         [ 35,  42,  70],\n",
              "         ...,\n",
              "         [  1,  25,  55],\n",
              "         [  0,  24,  54],\n",
              "         [  1,  21,  51]],\n",
              "\n",
              "        ...,\n",
              "\n",
              "        [[  0,   0,   0],\n",
              "         [  0,   0,   0],\n",
              "         [  0,   0,   0],\n",
              "         ...,\n",
              "         [  0,   0,   0],\n",
              "         [  0,   0,   0],\n",
              "         [  0,   0,   0]],\n",
              "\n",
              "        [[  0,   0,   0],\n",
              "         [  0,   0,   0],\n",
              "         [  0,   0,   0],\n",
              "         ...,\n",
              "         [  0,   0,   0],\n",
              "         [  0,   0,   0],\n",
              "         [  0,   0,   0]],\n",
              "\n",
              "        [[  0,   0,   0],\n",
              "         [  0,   0,   0],\n",
              "         [  0,   0,   0],\n",
              "         ...,\n",
              "         [  0,   0,   0],\n",
              "         [  0,   0,   0],\n",
              "         [  0,   0,   0]]],\n",
              "\n",
              "\n",
              "       [[[196, 192, 190],\n",
              "         [193, 186, 182],\n",
              "         [188, 179, 174],\n",
              "         ...,\n",
              "         [ 90, 142, 200],\n",
              "         [ 90, 142, 201],\n",
              "         [ 90, 142, 201]],\n",
              "\n",
              "        [[230, 229, 229],\n",
              "         [204, 199, 197],\n",
              "         [193, 186, 181],\n",
              "         ...,\n",
              "         [ 91, 143, 201],\n",
              "         [ 91, 143, 201],\n",
              "         [ 91, 143, 201]],\n",
              "\n",
              "        [[232, 225, 224],\n",
              "         [235, 234, 234],\n",
              "         [208, 205, 202],\n",
              "         ...,\n",
              "         [ 91, 144, 202],\n",
              "         [ 91, 144, 202],\n",
              "         [ 92, 144, 202]],\n",
              "\n",
              "        ...,\n",
              "\n",
              "        [[ 18,  17,  15],\n",
              "         [ 14,  14,  13],\n",
              "         [ 29,  29,  32],\n",
              "         ...,\n",
              "         [ 83,  81,  81],\n",
              "         [ 84,  82,  83],\n",
              "         [ 82,  81,  82]],\n",
              "\n",
              "        [[ 22,  20,  18],\n",
              "         [ 16,  15,  14],\n",
              "         [ 25,  24,  24],\n",
              "         ...,\n",
              "         [ 82,  80,  80],\n",
              "         [ 83,  81,  82],\n",
              "         [ 82,  81,  81]],\n",
              "\n",
              "        [[ 45,  43,  39],\n",
              "         [ 61,  59,  54],\n",
              "         [ 81,  78,  74],\n",
              "         ...,\n",
              "         [ 83,  82,  81],\n",
              "         [ 84,  82,  82],\n",
              "         [ 82,  80,  81]]],\n",
              "\n",
              "\n",
              "       [[[ 82,  71,  68],\n",
              "         [ 89,  83,  83],\n",
              "         [100,  98, 104],\n",
              "         ...,\n",
              "         [131, 132, 137],\n",
              "         [126, 124, 124],\n",
              "         [105,  97,  95]],\n",
              "\n",
              "        [[ 95,  91,  97],\n",
              "         [104, 104, 113],\n",
              "         [110, 115, 126],\n",
              "         ...,\n",
              "         [135, 134, 135],\n",
              "         [127, 122, 119],\n",
              "         [111, 105, 103]],\n",
              "\n",
              "        [[ 94,  85,  83],\n",
              "         [ 97,  89,  90],\n",
              "         [110, 109, 115],\n",
              "         ...,\n",
              "         [136, 134, 131],\n",
              "         [127, 120, 117],\n",
              "         [116, 108, 104]],\n",
              "\n",
              "        ...,\n",
              "\n",
              "        [[ 96, 116, 131],\n",
              "         [ 97, 115, 130],\n",
              "         [103, 123, 139],\n",
              "         ...,\n",
              "         [152, 155, 157],\n",
              "         [146, 149, 152],\n",
              "         [130, 133, 134]],\n",
              "\n",
              "        [[ 90, 108, 123],\n",
              "         [ 92, 108, 121],\n",
              "         [100, 119, 134],\n",
              "         ...,\n",
              "         [150, 152, 155],\n",
              "         [144, 146, 147],\n",
              "         [134, 135, 134]],\n",
              "\n",
              "        [[ 86, 102, 116],\n",
              "         [ 87, 103, 115],\n",
              "         [ 94, 114, 127],\n",
              "         ...,\n",
              "         [154, 156, 160],\n",
              "         [146, 148, 152],\n",
              "         [138, 141, 142]]],\n",
              "\n",
              "\n",
              "       ...,\n",
              "\n",
              "\n",
              "       [[[143, 155, 165],\n",
              "         [184, 190, 198],\n",
              "         [142, 149, 155],\n",
              "         ...,\n",
              "         [ 99,  92, 102],\n",
              "         [120,  98, 102],\n",
              "         [100,  84,  95]],\n",
              "\n",
              "        [[151, 149, 139],\n",
              "         [173, 179, 185],\n",
              "         [105, 135, 141],\n",
              "         ...,\n",
              "         [ 91,  87,  99],\n",
              "         [119,  99, 104],\n",
              "         [120,  95, 101]],\n",
              "\n",
              "        [[204, 190, 185],\n",
              "         [180, 185, 195],\n",
              "         [117, 155, 177],\n",
              "         ...,\n",
              "         [ 96,  88, 101],\n",
              "         [125, 103, 110],\n",
              "         [120, 100, 110]],\n",
              "\n",
              "        ...,\n",
              "\n",
              "        [[ 41,  80, 116],\n",
              "         [ 41,  80, 116],\n",
              "         [ 41,  78, 115],\n",
              "         ...,\n",
              "         [ 63,  75,  98],\n",
              "         [ 60,  72,  98],\n",
              "         [ 60,  70,  96]],\n",
              "\n",
              "        [[ 71,  90, 121],\n",
              "         [ 73,  91, 123],\n",
              "         [ 74,  91, 124],\n",
              "         ...,\n",
              "         [ 79, 101, 142],\n",
              "         [ 80, 100, 140],\n",
              "         [ 82, 101, 139]],\n",
              "\n",
              "        [[ 71,  88, 122],\n",
              "         [ 73,  92, 128],\n",
              "         [ 76,  95, 131],\n",
              "         ...,\n",
              "         [ 81, 106, 150],\n",
              "         [ 85, 108, 151],\n",
              "         [ 85, 107, 149]]],\n",
              "\n",
              "\n",
              "       [[[ 22,  24,  23],\n",
              "         [ 23,  25,  24],\n",
              "         [ 24,  26,  25],\n",
              "         ...,\n",
              "         [ 24,  29,  25],\n",
              "         [ 23,  25,  22],\n",
              "         [ 20,  22,  21]],\n",
              "\n",
              "        [[ 22,  24,  23],\n",
              "         [ 23,  25,  24],\n",
              "         [ 23,  26,  25],\n",
              "         ...,\n",
              "         [ 22,  28,  23],\n",
              "         [ 20,  23,  22],\n",
              "         [ 19,  21,  21]],\n",
              "\n",
              "        [[ 22,  24,  22],\n",
              "         [ 23,  25,  24],\n",
              "         [ 23,  26,  25],\n",
              "         ...,\n",
              "         [ 23,  27,  23],\n",
              "         [ 20,  23,  21],\n",
              "         [ 18,  20,  19]],\n",
              "\n",
              "        ...,\n",
              "\n",
              "        [[  8,   5,   0],\n",
              "         [  9,   6,   1],\n",
              "         [  9,   6,   1],\n",
              "         ...,\n",
              "         [  4,   5,   0],\n",
              "         [  5,   4,   0],\n",
              "         [  4,   5,   0]],\n",
              "\n",
              "        [[  7,   5,   0],\n",
              "         [  8,   5,   1],\n",
              "         [  9,   6,   1],\n",
              "         ...,\n",
              "         [  4,   5,   0],\n",
              "         [  4,   5,   0],\n",
              "         [  4,   5,   0]],\n",
              "\n",
              "        [[  7,   5,   0],\n",
              "         [  8,   5,   0],\n",
              "         [  9,   6,   1],\n",
              "         ...,\n",
              "         [  4,   5,   0],\n",
              "         [  4,   5,   0],\n",
              "         [  4,   5,   0]]],\n",
              "\n",
              "\n",
              "       [[[  8,  28,  53],\n",
              "         [ 14,  33,  58],\n",
              "         [ 19,  35,  61],\n",
              "         ...,\n",
              "         [ 11,  16,  35],\n",
              "         [ 10,  16,  35],\n",
              "         [  9,  14,  32]],\n",
              "\n",
              "        [[ 15,  31,  57],\n",
              "         [ 15,  32,  58],\n",
              "         [ 18,  34,  60],\n",
              "         ...,\n",
              "         [ 13,  17,  35],\n",
              "         [ 13,  17,  35],\n",
              "         [ 13,  16,  35]],\n",
              "\n",
              "        [[ 20,  35,  61],\n",
              "         [ 19,  33,  59],\n",
              "         [ 20,  33,  59],\n",
              "         ...,\n",
              "         [ 16,  17,  35],\n",
              "         [ 16,  18,  35],\n",
              "         [ 15,  17,  35]],\n",
              "\n",
              "        ...,\n",
              "\n",
              "        [[  0,   0,   0],\n",
              "         [  0,   0,   0],\n",
              "         [  0,   0,   0],\n",
              "         ...,\n",
              "         [  0,   0,   0],\n",
              "         [  0,   0,   0],\n",
              "         [  0,   0,   0]],\n",
              "\n",
              "        [[  0,   0,   0],\n",
              "         [  0,   0,   0],\n",
              "         [  0,   0,   0],\n",
              "         ...,\n",
              "         [  0,   0,   0],\n",
              "         [  0,   0,   0],\n",
              "         [  0,   0,   0]],\n",
              "\n",
              "        [[  0,   0,   0],\n",
              "         [  0,   0,   0],\n",
              "         [  0,   0,   0],\n",
              "         ...,\n",
              "         [  0,   0,   0],\n",
              "         [  0,   0,   0],\n",
              "         [  0,   0,   0]]]], dtype=uint8)"
            ]
          },
          "metadata": {
            "tags": []
          },
          "execution_count": 7
        }
      ]
    },
    {
      "cell_type": "code",
      "metadata": {
        "id": "43ow2At-Dy_c",
        "colab_type": "code",
        "colab": {
          "base_uri": "https://localhost:8080/",
          "height": 35
        },
        "outputId": "ac78d41f-17b0-4215-a017-ec3608abc345"
      },
      "source": [
        "classes=np.array(display1[\"list_classes\"][:])\n",
        "classes"
      ],
      "execution_count": null,
      "outputs": [
        {
          "output_type": "execute_result",
          "data": {
            "text/plain": [
              "array([b'non-cat', b'cat'], dtype='|S7')"
            ]
          },
          "metadata": {
            "tags": []
          },
          "execution_count": 8
        }
      ]
    },
    {
      "cell_type": "code",
      "metadata": {
        "id": "ZmilMibFcc3v",
        "colab_type": "code",
        "colab": {}
      },
      "source": [
        "train_set_x_ori, test_set_x_ori, train_set_y, test_set_y, classes=load_datasets()"
      ],
      "execution_count": null,
      "outputs": []
    },
    {
      "cell_type": "code",
      "metadata": {
        "id": "xlV8rdSMcynm",
        "colab_type": "code",
        "colab": {
          "base_uri": "https://localhost:8080/",
          "height": 304
        },
        "outputId": "7deb3dcb-2101-472c-e52c-3b88d61ca7a0"
      },
      "source": [
        "index=123\n",
        "print(\"y= \" + str(train_set_y[:,index])+ \"it is \"+classes[np.squeeze(train_set_y[:,index])].decode(\"utf-8\")+\" image\")\n",
        "plt.imshow(train_set_x_ori[index])"
      ],
      "execution_count": null,
      "outputs": [
        {
          "output_type": "stream",
          "text": [
            "y= [0]it is non-cat image\n"
          ],
          "name": "stdout"
        },
        {
          "output_type": "execute_result",
          "data": {
            "text/plain": [
              "<matplotlib.image.AxesImage at 0x7f77a09aa160>"
            ]
          },
          "metadata": {
            "tags": []
          },
          "execution_count": 10
        },
        {
          "output_type": "display_data",
          "data": {
            "image/png": "[encoded data removed]",
            "text/plain": [
              "<Figure size 432x288 with 1 Axes>"
            ]
          },
          "metadata": {
            "tags": [],
            "needs_background": "light"
          }
        }
      ]
    },
    {
      "cell_type": "code",
      "metadata": {
        "id": "RKqbXIAuhnuw",
        "colab_type": "code",
        "colab": {
          "base_uri": "https://localhost:8080/",
          "height": 142
        },
        "outputId": "13245758-cbd1-46a5-8148-26813419c34a"
      },
      "source": [
        "n_train=train_set_x_ori.shape[0]\n",
        "n_test=test_set_x_ori.shape[0]\n",
        "h=train_set_x_ori.shape[1]\n",
        "print(\"Number of training examples: \"+str(n_train))\n",
        "print(\"Number of testing examples: \"+str(n_test))\n",
        "print(\"Each image is of size: \"+str(h)+\", \"+str(h)+\", 3\")\n",
        "print(\"train_set_x shape: \"+str(train_set_x_ori.shape))\n",
        "print(\"train_set_y shape: \"+str(train_set_y.shape))\n",
        "print(\"test_set_x shape: \"+str(test_set_x_ori.shape))\n",
        "print(\"test_set_y shape: \"+str(test_set_y.shape))"
      ],
      "execution_count": null,
      "outputs": [
        {
          "output_type": "stream",
          "text": [
            "Number of training examples: 209\n",
            "Number of testing examples: 50\n",
            "Each image is of size: 64, 64, 3\n",
            "train_set_x shape: (209, 64, 64, 3)\n",
            "train_set_y shape: (1, 209)\n",
            "test_set_x shape: (50, 64, 64, 3)\n",
            "test_set_y shape: (1, 50)\n"
          ],
          "name": "stdout"
        }
      ]
    },
    {
      "cell_type": "code",
      "metadata": {
        "id": "GtGb1j70NWTS",
        "colab_type": "code",
        "colab": {}
      },
      "source": [
        "train_set_x_flatten=train_set_x_ori.reshape(train_set_x_ori.shape[0],-1).T\n",
        "test_set_x_flatten=test_set_x_ori.reshape(test_set_x_ori.shape[0],-1).T"
      ],
      "execution_count": null,
      "outputs": []
    },
    {
      "cell_type": "code",
      "metadata": {
        "id": "ek_7AGiyNpec",
        "colab_type": "code",
        "colab": {
          "base_uri": "https://localhost:8080/",
          "height": 88
        },
        "outputId": "b0f824c1-6aa9-474a-ea60-6e22fa699bae"
      },
      "source": [
        "print(\"shape of train_set_x_flatten: \" +str(train_set_x_flatten.shape))\n",
        "print(\"shape of train_set_y :\"+ str(train_set_y.shape))\n",
        "print(\"shape of test_set_x_flatten: \"+str(test_set_x_flatten.shape))\n",
        "print(\"shape of test_set_y: \"+str(test_set_y.shape))"
      ],
      "execution_count": null,
      "outputs": [
        {
          "output_type": "stream",
          "text": [
            "shape of train_set_x_flatten: (12288, 209)\n",
            "shape of train_set_y :(1, 209)\n",
            "shape of test_set_x_flatten: (12288, 50)\n",
            "shape of test_set_y: (1, 50)\n"
          ],
          "name": "stdout"
        }
      ]
    },
    {
      "cell_type": "code",
      "metadata": {
        "id": "RToCPHZ2d2fj",
        "colab_type": "code",
        "colab": {}
      },
      "source": [
        "train_set_x=train_set_x_flatten/255.\n",
        "test_set_x=test_set_x_flatten/255."
      ],
      "execution_count": null,
      "outputs": []
    },
    {
      "cell_type": "code",
      "metadata": {
        "id": "hQpNtewJe7YP",
        "colab_type": "code",
        "colab": {}
      },
      "source": [
        "def sigmoid(z):\n",
        "  return 1/(1+np.exp(-z))\n",
        "\n",
        "\n",
        "def initialize(d):\n",
        "  w=np.zeros((d,1))\n",
        "  b=0\n",
        "  assert(w.shape==(d,1))\n",
        "  return w,b\n",
        "\n",
        "def propagate(w,b,X,y):\n",
        "  z=np.dot(w.T, X)+b\n",
        "  h=sigmoid(z)\n",
        "  m=X.shape[1]\n",
        "  cost=-1/m * np.sum((y*np.log(h))+((1-y)*np.log(1-h)))\n",
        "\n",
        "  dw=1/m* np.dot(X,(h-y).T)\n",
        "  db=1/m*np.sum(h-y)\n",
        "  cost=np.squeeze(cost)\n",
        "  assert(dw.shape==w.shape)\n",
        "\n",
        "  par={'dw':dw, 'db':db}\n",
        "\n",
        "  return cost, par\n",
        "\n",
        "def optimize(w,b,X,y,iteration,lr,print_cost=False):\n",
        "  costs=[]\n",
        "  for i in range(iteration):\n",
        "    cos,par=propagate(w,b,X,y)\n",
        "    dw=par['dw']\n",
        "    db=par['db']\n",
        "\n",
        "    w=w-lr*dw\n",
        "    b=b-lr*db\n",
        "\n",
        "    if i%100 ==0:\n",
        "      costs.append(cos)\n",
        "\n",
        "    if print_cost and i%100 ==0:\n",
        "      print('cost at %d iteration is %f'%(i,cos))\n",
        "\n",
        "  params={'w':w,'b':b}\n",
        "  grads={'dw':dw, 'db':db}\n",
        "\n",
        "  return params, grads, costs\n",
        "\n",
        "\n",
        "def predict(w,b,X):\n",
        "  assert(w.shape==(X.shape[0],1))\n",
        "  z=np.dot(w.T,X)+b\n",
        "  h=sigmoid(z)\n",
        "  y_h=(h>=0.5)*1\n",
        "\n",
        "  return y_h"
      ],
      "execution_count": null,
      "outputs": []
    },
    {
      "cell_type": "code",
      "metadata": {
        "id": "_gQDf8f2o2du",
        "colab_type": "code",
        "colab": {}
      },
      "source": [
        "def model(X_train, Y_train, X_test, Y_test, iteration=1000, lr=0.5,print_cost=False):\n",
        "  \n",
        "  dim=X_train.shape[0]\n",
        "  w,b=initialize(dim)\n",
        "\n",
        "  parameter, gradient, costs=optimize(w,b,X_train, Y_train, iteration, lr, print_cost)\n",
        "\n",
        "  W=parameter['w']\n",
        "  b=parameter['b']\n",
        "\n",
        "  Y_train_P=predict(W, b, X_train)\n",
        "  Y_test_P=predict(W, b, X_test)\n",
        "\n",
        "  print(\"Accuracy of train data is {} %\".format(100-(np.mean(np.abs(Y_train_P - Y_train))*100)))\n",
        "  print(\"Accuracy of test data is {} %\".format(100-(np.mean(np.abs(Y_test_P - Y_test)))*100))\n",
        "\n",
        "  d={'w':W, 'b':b, 'Y_t':Y_train_P, 'Y_te':Y_test_P, 'cost':costs, 'it':iteration, 'lr':lr}\n",
        "\n",
        "  return d\n",
        "\n"
      ],
      "execution_count": null,
      "outputs": []
    },
    {
      "cell_type": "code",
      "metadata": {
        "id": "Zy5R_D6jAZmS",
        "colab_type": "code",
        "colab": {
          "base_uri": "https://localhost:8080/",
          "height": 410
        },
        "outputId": "c1ee9035-c938-46b1-f9df-1f4c445500ee"
      },
      "source": [
        "d=model(train_set_x, train_set_y, test_set_x, test_set_y, iteration=2000, lr=0.005, print_cost=True)"
      ],
      "execution_count": null,
      "outputs": [
        {
          "output_type": "stream",
          "text": [
            "cost at 0 iteration is 0.693147\n",
            "cost at 100 iteration is 0.584508\n",
            "cost at 200 iteration is 0.466949\n",
            "cost at 300 iteration is 0.376007\n",
            "cost at 400 iteration is 0.331463\n",
            "cost at 500 iteration is 0.303273\n",
            "cost at 600 iteration is 0.279880\n",
            "cost at 700 iteration is 0.260042\n",
            "cost at 800 iteration is 0.242941\n",
            "cost at 900 iteration is 0.228004\n",
            "cost at 1000 iteration is 0.214820\n",
            "cost at 1100 iteration is 0.203078\n",
            "cost at 1200 iteration is 0.192544\n",
            "cost at 1300 iteration is 0.183033\n",
            "cost at 1400 iteration is 0.174399\n",
            "cost at 1500 iteration is 0.166521\n",
            "cost at 1600 iteration is 0.159305\n",
            "cost at 1700 iteration is 0.152667\n",
            "cost at 1800 iteration is 0.146542\n",
            "cost at 1900 iteration is 0.140872\n",
            "Accuracy of train data is 99.04306220095694 %\n",
            "Accuracy of test data is 70.0 %\n"
          ],
          "name": "stdout"
        }
      ]
    },
    {
      "cell_type": "code",
      "metadata": {
        "id": "BXmcFqZNA_EO",
        "colab_type": "code",
        "colab": {
          "base_uri": "https://localhost:8080/",
          "height": 286
        },
        "outputId": "c8faa5ac-c56e-4f72-d451-c816ef5b0fbc"
      },
      "source": [
        "test_p=d['Y_te']\n",
        "index=10\n",
        "plt.imshow(test_set_x[:,index].reshape((h, h, 3)))\n",
        "print(\"I predicted this as \"+str(classes[np.squeeze(test_p[:,index])].decode('utf-8'))+\"image\")"
      ],
      "execution_count": null,
      "outputs": [
        {
          "output_type": "stream",
          "text": [
            "I predicted this as non-catimage\n"
          ],
          "name": "stdout"
        },
        {
          "output_type": "display_data",
          "data": {
            "image/png": "[encoded data removed]",
            "text/plain": [
              "<Figure size 432x288 with 1 Axes>"
            ]
          },
          "metadata": {
            "tags": [],
            "needs_background": "light"
          }
        }
      ]
    },
    {
      "cell_type": "code",
      "metadata": {
        "id": "jyT1WWxaEwoc",
        "colab_type": "code",
        "colab": {
          "base_uri": "https://localhost:8080/",
          "height": 283
        },
        "outputId": "d9a9a949-68bc-4f98-a0d5-61217a8fe133"
      },
      "source": [
        "c=d['cost']\n",
        "plt.plot(c)"
      ],
      "execution_count": null,
      "outputs": [
        {
          "output_type": "execute_result",
          "data": {
            "text/plain": [
              "[<matplotlib.lines.Line2D at 0x7f779d8495c0>]"
            ]
          },
          "metadata": {
            "tags": []
          },
          "execution_count": 20
        },
        {
          "output_type": "display_data",
          "data": {
            "image/png": "[encoded data removed]",
            "text/plain": [
              "<Figure size 432x288 with 1 Axes>"
            ]
          },
          "metadata": {
            "tags": [],
            "needs_background": "light"
          }
        }
      ]
    },
    {
      "cell_type": "code",
      "metadata": {
        "id": "oGhpDlzvA6LK",
        "colab_type": "code",
        "colab": {
          "base_uri": "https://localhost:8080/",
          "height": 533
        },
        "outputId": "6e88bae3-e64b-4bfd-c3aa-310931a493f2"
      },
      "source": [
        "learning=[0.001,0.01, 0.015, 0.018, 0.02]\n",
        "models={}\n",
        "for i in learning:\n",
        "  models[str(i)]=model(train_set_x, train_set_y, test_set_x, test_set_y, iteration=2000, lr=i, print_cost=False)\n",
        "  print(\"----------------------------------------------------------\")\n",
        "\n"
      ],
      "execution_count": null,
      "outputs": [
        {
          "output_type": "stream",
          "text": [
            "Accuracy of train data is 91.38755980861244 %\n",
            "Accuracy of test data is 68.0 %\n",
            "----------------------------------------------------------\n",
            "Accuracy of train data is 99.52153110047847 %\n",
            "Accuracy of test data is 70.0 %\n",
            "----------------------------------------------------------\n",
            "Accuracy of train data is 100.0 %\n",
            "Accuracy of test data is 68.0 %\n",
            "----------------------------------------------------------\n",
            "Accuracy of train data is 100.0 %\n",
            "Accuracy of test data is 68.0 %\n",
            "----------------------------------------------------------\n",
            "Accuracy of train data is 100.0 %\n",
            "Accuracy of test data is 68.0 %\n",
            "----------------------------------------------------------\n"
          ],
          "name": "stdout"
        },
        {
          "output_type": "display_data",
          "data": {
            "image/png": "[encoded data removed]",
            "text/plain": [
              "<Figure size 432x288 with 1 Axes>"
            ]
          },
          "metadata": {
            "tags": [],
            "needs_background": "light"
          }
        }
      ]
    },
    {
      "cell_type": "code",
      "metadata": {
        "id": "UnBPZsevKLaH",
        "colab_type": "code",
        "colab": {
          "base_uri": "https://localhost:8080/",
          "height": 265
        },
        "outputId": "92080545-d562-45c9-db6c-c2a82217e8c8"
      },
      "source": [
        "for i in learning:\n",
        "  plt.plot(np.squeeze(models[str(i)]['cost']), label=str(models[str(i)]['lr']))\n",
        "plt.xlabel=\"Iteration (Hundreds)\"\n",
        "plt.ylabel=\"Cost\"\n",
        "\n",
        "legend=plt.legend(loc=\"upper right\", shadow=True)\n",
        "frame=legend.get_frame()\n",
        "frame.set_facecolor('0.67')\n",
        "plt.show()"
      ],
      "execution_count": null,
      "outputs": [
        {
          "output_type": "display_data",
          "data": {
            "image/png": "[encoded data removed]",
            "text/plain": [
              "<Figure size 432x288 with 1 Axes>"
            ]
          },
          "metadata": {
            "tags": [],
            "needs_background": "light"
          }
        }
      ]
    },
    {
      "cell_type": "code",
      "metadata": {
        "id": "gURnPkIWEST6",
        "colab_type": "code",
        "colab": {
          "base_uri": "https://localhost:8080/",
          "height": 35
        },
        "outputId": "0145fc9f-f153-4fc9-de53-ee19690bb66d"
      },
      "source": [
        "str(models[str(i)]['lr'])"
      ],
      "execution_count": null,
      "outputs": [
        {
          "output_type": "execute_result",
          "data": {
            "text/plain": [
              "'0.02'"
            ]
          },
          "metadata": {
            "tags": []
          },
          "execution_count": 47
        }
      ]
    },
    {
      "cell_type": "code",
      "metadata": {
        "id": "LfXNnH6iSeRY",
        "colab_type": "code",
        "colab": {
          "base_uri": "https://localhost:8080/",
          "height": 53
        },
        "outputId": "548e14df-50c2-4a54-963c-e4e6aa229a5b"
      },
      "source": [
        "from google.colab import drive\n",
        "drive.mount('/gdrive')\n",
        "%cd /gdrive/My\\ Drive"
      ],
      "execution_count": null,
      "outputs": [
        {
          "output_type": "stream",
          "text": [
            "Drive already mounted at /gdrive; to attempt to forcibly remount, call drive.mount(\"/gdrive\", force_remount=True).\n",
            "/gdrive/My Drive\n"
          ],
          "name": "stdout"
        }
      ]
    },
    {
      "cell_type": "code",
      "metadata": {
        "id": "sQYW8jOOSjg6",
        "colab_type": "code",
        "colab": {
          "base_uri": "https://localhost:8080/",
          "height": 169
        },
        "outputId": "ce1a1cef-134a-48f3-f712-0d5fe4959f1f"
      },
      "source": [
        "image=ndimage.imread(\"cat.jpg\")"
      ],
      "execution_count": null,
      "outputs": [
        {
          "output_type": "error",
          "ename": "AttributeError",
          "evalue": "ignored",
          "traceback": [
            "\u001b[0;31m---------------------------------------------------------------------------\u001b[0m",
            "\u001b[0;31mAttributeError\u001b[0m                            Traceback (most recent call last)",
            "\u001b[0;32m<ipython-input-78-0593ae0f9189>\u001b[0m in \u001b[0;36m<module>\u001b[0;34m()\u001b[0m\n\u001b[0;32m----> 1\u001b[0;31m \u001b[0mimage\u001b[0m\u001b[0;34m=\u001b[0m\u001b[0mndimage\u001b[0m\u001b[0;34m.\u001b[0m\u001b[0mimread\u001b[0m\u001b[0;34m(\u001b[0m\u001b[0;34m\"cat.jpg\"\u001b[0m\u001b[0;34m)\u001b[0m\u001b[0;34m\u001b[0m\u001b[0;34m\u001b[0m\u001b[0m\n\u001b[0m",
            "\u001b[0;31mAttributeError\u001b[0m: module 'scipy.ndimage' has no attribute 'imread'"
          ]
        }
      ]
    },
    {
      "cell_type": "code",
      "metadata": {
        "id": "4C96aQCpS9KJ",
        "colab_type": "code",
        "colab": {}
      },
      "source": [
        "import cv2\n",
        "import scipy.misc\n",
        "image=cv2.imread(\"cat.jpg\")"
      ],
      "execution_count": null,
      "outputs": []
    },
    {
      "cell_type": "code",
      "metadata": {
        "id": "g6RBTvZ1TXkA",
        "colab_type": "code",
        "colab": {
          "base_uri": "https://localhost:8080/",
          "height": 241
        },
        "outputId": "726db130-eb00-4046-eca9-34ed35d9b191"
      },
      "source": [
        "#my_image = image   # change this to the name of your image file \n",
        "## END CODE HERE ##\n",
        "\n",
        "# We preprocess the image to fit your algorithm.\n",
        "\n",
        "#image = np.array(ndimage.imread(fname, flatten=False))\n",
        "my_image = scipy.misc.imresize(image, size=(num_px,num_px)).reshape((1, num_px*num_px*3)).T\n",
        "my_predicted_image = predict(d[\"w\"], d[\"b\"], my_image)\n",
        "\n",
        "plt.imshow(image)\n",
        "print(\"y = \" + str(np.squeeze(my_predicted_image)) + \", your algorithm predicts a \\\"\" + classes[int(np.squeeze(my_predicted_image)),].decode(\"utf-8\") +  \"\\\" picture.\")"
      ],
      "execution_count": null,
      "outputs": [
        {
          "output_type": "error",
          "ename": "AttributeError",
          "evalue": "ignored",
          "traceback": [
            "\u001b[0;31m---------------------------------------------------------------------------\u001b[0m",
            "\u001b[0;31mAttributeError\u001b[0m                            Traceback (most recent call last)",
            "\u001b[0;32m<ipython-input-106-067b6004102d>\u001b[0m in \u001b[0;36m<module>\u001b[0;34m()\u001b[0m\n\u001b[1;32m      5\u001b[0m \u001b[0;34m\u001b[0m\u001b[0m\n\u001b[1;32m      6\u001b[0m \u001b[0;31m#image = np.array(ndimage.imread(fname, flatten=False))\u001b[0m\u001b[0;34m\u001b[0m\u001b[0;34m\u001b[0m\u001b[0;34m\u001b[0m\u001b[0m\n\u001b[0;32m----> 7\u001b[0;31m \u001b[0mmy_image\u001b[0m \u001b[0;34m=\u001b[0m \u001b[0mscipy\u001b[0m\u001b[0;34m.\u001b[0m\u001b[0mmisc\u001b[0m\u001b[0;34m.\u001b[0m\u001b[0mimresize\u001b[0m\u001b[0;34m(\u001b[0m\u001b[0mimage\u001b[0m\u001b[0;34m,\u001b[0m \u001b[0msize\u001b[0m\u001b[0;34m=\u001b[0m\u001b[0;34m(\u001b[0m\u001b[0mnum_px\u001b[0m\u001b[0;34m,\u001b[0m\u001b[0mnum_px\u001b[0m\u001b[0;34m)\u001b[0m\u001b[0;34m)\u001b[0m\u001b[0;34m.\u001b[0m\u001b[0mreshape\u001b[0m\u001b[0;34m(\u001b[0m\u001b[0;34m(\u001b[0m\u001b[0;36m1\u001b[0m\u001b[0;34m,\u001b[0m \u001b[0mnum_px\u001b[0m\u001b[0;34m*\u001b[0m\u001b[0mnum_px\u001b[0m\u001b[0;34m*\u001b[0m\u001b[0;36m3\u001b[0m\u001b[0;34m)\u001b[0m\u001b[0;34m)\u001b[0m\u001b[0;34m.\u001b[0m\u001b[0mT\u001b[0m\u001b[0;34m\u001b[0m\u001b[0;34m\u001b[0m\u001b[0m\n\u001b[0m\u001b[1;32m      8\u001b[0m \u001b[0mmy_predicted_image\u001b[0m \u001b[0;34m=\u001b[0m \u001b[0mpredict\u001b[0m\u001b[0;34m(\u001b[0m\u001b[0md\u001b[0m\u001b[0;34m[\u001b[0m\u001b[0;34m\"w\"\u001b[0m\u001b[0;34m]\u001b[0m\u001b[0;34m,\u001b[0m \u001b[0md\u001b[0m\u001b[0;34m[\u001b[0m\u001b[0;34m\"b\"\u001b[0m\u001b[0;34m]\u001b[0m\u001b[0;34m,\u001b[0m \u001b[0mmy_image\u001b[0m\u001b[0;34m)\u001b[0m\u001b[0;34m\u001b[0m\u001b[0;34m\u001b[0m\u001b[0m\n\u001b[1;32m      9\u001b[0m \u001b[0;34m\u001b[0m\u001b[0m\n",
            "\u001b[0;31mAttributeError\u001b[0m: module 'scipy.misc' has no attribute 'imresize'"
          ]
        }
      ]
    }
  ]
}